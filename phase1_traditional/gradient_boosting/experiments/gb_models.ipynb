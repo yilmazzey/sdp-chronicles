{
  "cells": [
    {
      "cell_type": "markdown",
      "metadata": {},
      "source": [
        "# Gradient Boosting Models for Medical Diagnosis\n",
        "\n",
        "## Experiment Overview\n",
        "\n",
        "This notebook experiments with three gradient boosting algorithms:\n",
        "1. **LightGBM** - Fast, efficient, handles categorical features well\n",
        "2. **XGBoost** - Robust, excellent performance, handles missing values\n",
        "3. **CatBoost** - Best for categorical data, minimal hyperparameter tuning\n",
        "\n",
        "### Dataset\n",
        "- **Training**: preprocessed_stratified/train_preprocessed.csv\n",
        "- **Validation**: preprocessed_stratified/validation_preprocessed.csv\n",
        "- **Test**: preprocessed_stratified/test_preprocessed.csv\n",
        "\n",
        "### Evaluation Metrics\n",
        "- Accuracy\n",
        "- Macro F1-score\n",
        "- Weighted F1-score\n",
        "- Top-3 Accuracy (medical relevance)\n",
        "- Per-class precision and recall\n"
      ]
    }
  ],
  "metadata": {
    "language_info": {
      "name": "python"
    }
  },
  "nbformat": 4,
  "nbformat_minor": 2
}
